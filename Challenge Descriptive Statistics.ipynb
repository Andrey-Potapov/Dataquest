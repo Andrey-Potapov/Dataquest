{
 "cells": [
  {
   "cell_type": "markdown",
   "metadata": {},
   "source": [
    "# Challenge: Descriptive Statistics\n",
    "## 1: Introduction\n",
    "In this challenge, you'll practice the statistical techniques you learned in the previous missions. These techniques are referred to collectively as **descriptive statistics** since they're used to describe and understand a dataset and not directly for prediction.\n",
    "\n",
    "The FiveThirtyEight team recently released a dataset containing the critics scores for a sample of movies that have substantive (at least 30) user and critic reviews from IMDB, Rotten Tomatoes, Metacritic, IMDB, and Fandango. Whenever a movie is released, movie review sites ask their approved network of critics and their site's user base to rate the movie. These scores are aggregated and the average score from both groups are posted on their site for each movie.\n",
    "\n",
    "Here are links to the page for **Star Trek Beyond** for each site:\n",
    "\n",
    "- [Rotten Tomatoes](https://www.rottentomatoes.com/m/star_trek_beyond)\n",
    "- [Fandango](http://www.fandango.com/startrekbeyond_188462/movieoverview)\n",
    "- [Metacritic](http://www.metacritic.com/movie/star-trek-beyond)\n",
    "- [IMDB](http://www.imdb.com/title/tt2660888/)\n",
    "\n",
    "The dataset contains information on most movies from 2014 and 2015 and was used to help the team at FiveThirtyEight explore Fandango's suspiciously high ratings. You can read their analysis [here](http://fivethirtyeight.com/features/fandango-movies-ratings/).\n",
    "\n",
    "You'll be working with the file *fandango_score_comparison.csv*, which you can download from their [Github repo](https://github.com/fivethirtyeight/data/tree/master/fandango). Here are some of the columns in the dataset:\n",
    "\n",
    "- *FILM* - film name.\n",
    "- *RottenTomatoes* - Rotten Tomatoes critics average score.\n",
    "- *RottenTomatoes_User* - Rotten Tomatoes user average score.\n",
    "- *RT_norm* - Rotten Tomatoes critics average score (normalized to a 0 to 5 point scale).\n",
    "- *RT_user_norm* - Rotten Tomatoes user average score (normalized to a 0 to 5 point scale).\n",
    "- *Metacritic* - Metacritic critics average score.\n",
    "- *Metacritic_user_nom* - Metacritic user average score (normalized to a 0 to 5 point scale).\n",
    "- *Metacritic_norm* - Metacritic critics average score (normalized to a 0 to 5 point scale).\n",
    "- *Fandango_Ratingvalue* - Fandango user average score (0 to 5 stars).\n",
    "- *IMDB_norm* - IMDB user average score (normalized to a 0 to 5 point scale).\n",
    "\n",
    "The full column list and descriptions are available at [FiveThirtyEight's Github repo](https://github.com/fivethirtyeight/data/tree/master/fandango). Let's focus on the normalized user scores for now and generate histograms to better understand each site's distributions."
   ]
  },
  {
   "cell_type": "code",
   "execution_count": 31,
   "metadata": {
    "collapsed": false,
    "scrolled": true
   },
   "outputs": [
    {
     "data": {
      "text/plain": [
       "<matplotlib.axes._subplots.AxesSubplot at 0x2a675882898>"
      ]
     },
     "execution_count": 31,
     "metadata": {},
     "output_type": "execute_result"
    },
    {
     "data": {
      "image/png": "[encoded data removed]",
      "text/plain": [
       "<matplotlib.figure.Figure at 0x2a6742a6a20>"
      ]
     },
     "metadata": {},
     "output_type": "display_data"
    }
   ],
   "source": [
    "import matplotlib.pyplot as plt\n",
    "%matplotlib inline\n",
    "import pandas as pd\n",
    "movie_reviews = pd.read_csv(\"D:\\YandexDisk\\ML\\Dataquest\\\\fandango_score_comparison.csv\")\n",
    "\n",
    "fig = plt.figure(figsize=(5,12))\n",
    "ax1 = fig.add_subplot(4,1,1)\n",
    "ax2 = fig.add_subplot(4,1,2)\n",
    "ax3 = fig.add_subplot(4,1,3)\n",
    "ax4 = fig.add_subplot(4,1,4)\n",
    "\n",
    "ax1.set_xlim(0,5.0)\n",
    "ax2.set_xlim(0,5.0)\n",
    "ax3.set_xlim(0,5.0)\n",
    "ax4.set_xlim(0,5.0)\n",
    "\n",
    "movie_reviews[\"RT_user_norm\"].hist(ax=ax1)\n",
    "movie_reviews[\"Metacritic_user_nom\"].hist(ax=ax2)\n",
    "movie_reviews[\"Fandango_Ratingvalue\"].hist(ax=ax3)\n",
    "movie_reviews[\"IMDB_norm\"].hist(ax=ax4)"
   ]
  },
  {
   "cell_type": "markdown",
   "metadata": {},
   "source": [
    "## 2: Mean\n",
    "The most obvious things that stick out is that essentially all of the Fandango average user reviews are greater than 3 on a 5 point scale. The distributions of the Rotten Tomatoes and Metacritic scores, on the other hand, more closely resemble a normal distribution, which is generally what you'd expect if you knew nothing else. This is because the normal distribution is the most common distribution in nature and is used to approximate many phenomenon. Starting with the assumption that a phemonenon is normal is incredibly common, especially when you don't have a clear generative model to understand how the data was generated.\n",
    "\n",
    "Now that you hopefully have some visual understanding of these scores, let's calculate some statistical measures to see how the properties the histograms suggested are reflected in numerical values. Let's focus on just the normalized user reviews in this mission."
   ]
  },
  {
   "cell_type": "code",
   "execution_count": 32,
   "metadata": {
    "collapsed": false
   },
   "outputs": [
    {
     "name": "stdout",
     "output_type": "stream",
     "text": [
      "Rotten Tomatoes (mean): 3.19383561644\n",
      "Metacritic (mean): 3.2595890411\n",
      "Fandango (mean): 3.84520547945\n",
      "IMDB (mean): 3.36849315068\n"
     ]
    }
   ],
   "source": [
    "def calc_mean(series):\n",
    "    vals = series.values\n",
    "    mean = sum(vals) / len(vals)\n",
    "    return mean    \n",
    "\n",
    "columns = [\"RT_user_norm\", \"Metacritic_user_nom\", \"Fandango_Ratingvalue\", \"IMDB_norm\"]\n",
    "user_reviews = movie_reviews[columns]\n",
    "user_reviews_means = user_reviews.apply(calc_mean)\n",
    "\n",
    "rt_mean = user_reviews_means[\"RT_user_norm\"]\n",
    "mc_mean = user_reviews_means[\"Metacritic_user_nom\"]\n",
    "fg_mean = user_reviews_means[\"Fandango_Ratingvalue\"]\n",
    "id_mean = user_reviews_means[\"IMDB_norm\"]\n",
    "\n",
    "print(\"Rotten Tomatoes (mean):\", rt_mean)\n",
    "print(\"Metacritic (mean):\", mc_mean)\n",
    "print(\"Fandango (mean):\",fg_mean)\n",
    "print(\"IMDB (mean):\",id_mean)"
   ]
  },
  {
   "cell_type": "markdown",
   "metadata": {},
   "source": [
    "## 3: Variance And Standard Deviation\n",
    "It seems like the Fandango user reviews have the highest mean and skew the most towards to the higher end compared to the other review sites. Let's now calculate variance and standard deviation to better understand the spreads."
   ]
  },
  {
   "cell_type": "code",
   "execution_count": 33,
   "metadata": {
    "collapsed": false
   },
   "outputs": [
    {
     "name": "stdout",
     "output_type": "stream",
     "text": [
      "Rotten Tomatoes (variance): 0.995578438731\n",
      "Metacritic (variance): 0.566654625633\n",
      "Fandango (variance): 0.251107149559\n",
      "IMDB (variance): 0.228219647213\n",
      "Rotten Tomatoes (standard deviation): 0.997786770173\n",
      "Metacritic (standard deviation): 0.752764654878\n",
      "Fandango (standard deviation): 0.501105926486\n",
      "IMDB (standard deviation): 0.47772340032\n"
     ]
    }
   ],
   "source": [
    "def calc_variance(column):\n",
    "    mean = column.mean()\n",
    "    variance = 0\n",
    "    for p in column:\n",
    "        difference = p - mean\n",
    "        square_difference = difference ** 2\n",
    "        variance += square_difference\n",
    "    variance = variance / len(column)\n",
    "    return variance\n",
    "\n",
    "columns = [\"RT_user_norm\", \"Metacritic_user_nom\", \"Fandango_Ratingvalue\", \"IMDB_norm\"]\n",
    "user_reviews = movie_reviews[columns]\n",
    "user_reviews_var = user_reviews.apply(calc_variance)\n",
    "user_reviews_stdev = user_reviews.apply(calc_variance) ** (1/2)\n",
    "\n",
    "\n",
    "rt_var = user_reviews_var[\"RT_user_norm\"]\n",
    "mc_var = user_reviews_var[\"Metacritic_user_nom\"]\n",
    "fg_var = user_reviews_var[\"Fandango_Ratingvalue\"]\n",
    "id_var = user_reviews_var[\"IMDB_norm\"]\n",
    "\n",
    "rt_stdev = user_reviews_stdev[\"RT_user_norm\"]\n",
    "mc_stdev = user_reviews_stdev[\"Metacritic_user_nom\"]\n",
    "fg_stdev = user_reviews_stdev[\"Fandango_Ratingvalue\"]\n",
    "id_stdev = user_reviews_stdev[\"IMDB_norm\"]\n",
    "\n",
    "print(\"Rotten Tomatoes (variance):\", rt_var)\n",
    "print(\"Metacritic (variance):\", mc_var)\n",
    "print(\"Fandango (variance):\",fg_var)\n",
    "print(\"IMDB (variance):\",id_var)\n",
    "print(\"Rotten Tomatoes (standard deviation):\", rt_stdev)\n",
    "print(\"Metacritic (standard deviation):\", mc_stdev)\n",
    "print(\"Fandango (standard deviation):\",fg_stdev)\n",
    "print(\"IMDB (standard deviation):\",id_stdev)"
   ]
  },
  {
   "cell_type": "markdown",
   "metadata": {},
   "source": [
    "## 4: Scatter Plots\n",
    "The mean and variance values you calculated in the last screens should match the visual intuition the histograms gave you. Rotten Tomatoes and Metacritic have more spread out scores (high variance) and the mean is around 3. Fandango, on the other hand, has low spread (low variance) and a much higher mean, which could imply that the site has a strong bias towards higher reviews. IMDB is somewhere in the middle, with a low variance, like Fandango's user reviews, but a much more moderate mean value.\n",
    "\n",
    "So it seems like something is especially fishy about Fandango's ratings, which was the inspiration behind the [FiveThirtyEight post](http://fivethirtyeight.com/features/fandango-movies-ratings) to begin with. Since Fandango's main business is selling movie tickets, it's possible their primary incentive may differ from pure review sites like Rotten Tomatoes or Metacritic.\n",
    "\n",
    "Let's now explore if Fandango's user ratings are at least relatively correct. More precisely, are movies that are highly rated on Rotten Tomatoes, IMDB, and Metacritic also highly rated on Fandango?\n",
    "\n",
    "We can accomplish that by understanding how Fandango's scores and related to scores from Rotten Tomatoes and Metacritic. First things first, let's get a visual sense by generating scatter plots."
   ]
  },
  {
   "cell_type": "code",
   "execution_count": 34,
   "metadata": {
    "collapsed": false
   },
   "outputs": [
    {
     "data": {
      "text/plain": [
       "<matplotlib.collections.PathCollection at 0x2a675a4ad30>"
      ]
     },
     "execution_count": 34,
     "metadata": {},
     "output_type": "execute_result"
    },
    {
     "data": {
      "image/png": "[encoded data removed]",
      "text/plain": [
       "<matplotlib.figure.Figure at 0x2a6758dbe48>"
      ]
     },
     "metadata": {},
     "output_type": "display_data"
    }
   ],
   "source": [
    "fig = plt.figure(figsize=(4,8))\n",
    "ax1 = fig.add_subplot(3,1,1)\n",
    "ax2 = fig.add_subplot(3,1,2)\n",
    "ax3 = fig.add_subplot(3,1,3)\n",
    "\n",
    "ax1.set_xlim(0,5.0)\n",
    "ax2.set_xlim(0,5.0)\n",
    "ax3.set_xlim(0,5.0)\n",
    "\n",
    "RT = movie_reviews[\"RT_user_norm\"]\n",
    "MT = movie_reviews[\"Metacritic_user_nom\"]\n",
    "FN = movie_reviews[\"Fandango_Ratingvalue\"]\n",
    "DB = movie_reviews[\"IMDB_norm\"]\n",
    "\n",
    "ax1.scatter(FN, RT)\n",
    "ax2.scatter(FN, MT)\n",
    "ax3.scatter(FN, DB)"
   ]
  },
  {
   "cell_type": "markdown",
   "metadata": {},
   "source": [
    "## 5: Covariance\n",
    "It seems like Rotten Tomatoes and IMDB user reviews correlate the most with Fandango user reviews while Metacritic only weakly correlates. Let's write a function that to calculates the covariance values in this screen and a function to calculate the correlation values in the next screen."
   ]
  },
  {
   "cell_type": "code",
   "execution_count": 35,
   "metadata": {
    "collapsed": false
   },
   "outputs": [
    {
     "name": "stdout",
     "output_type": "stream",
     "text": [
      "The covariance between Rotten Tomatoes and Fandago: 0.362162225558\n",
      "The covariance between Metacritic and Fandago: 0.127100769375\n",
      "The covariance between IMDB and Fandago: 0.143718802777\n"
     ]
    }
   ],
   "source": [
    "def calc_covariance(column1, column2):\n",
    "    mean1 = sum(column1.values) / len(column1.values)\n",
    "    mean2 = sum(column2.values) / len(column2.values)\n",
    "    covariance = (sum((column1 - mean1) * (column2 - mean2))) / len(column1)\n",
    "    return covariance\n",
    "\n",
    "rt_fg_covar = calc_covariance(RT, FN)\n",
    "mc_fg_covar = calc_covariance(MT, FN)\n",
    "id_fg_covar = calc_covariance(DB, FN)\n",
    "\n",
    "print(\"The covariance between Rotten Tomatoes and Fandago:\", rt_fg_covar)\n",
    "print(\"The covariance between Metacritic and Fandago:\", mc_fg_covar)\n",
    "print(\"The covariance between IMDB and Fandago:\",id_fg_covar)"
   ]
  },
  {
   "cell_type": "markdown",
   "metadata": {},
   "source": [
    "## 6: Correlation\n",
    "Interestingly, Rotten Tomatoes covaries strongly with Fandango (0.36) compared to Metacritic (0.13) and IMDB (0.14). Finally, let's calculate the correlation values by using the calc_covariance a function from the previous step."
   ]
  },
  {
   "cell_type": "code",
   "execution_count": 36,
   "metadata": {
    "collapsed": false
   },
   "outputs": [
    {
     "name": "stdout",
     "output_type": "stream",
     "text": [
      "The correlation between Rotten Tomatoes and Fandago: 0.724328994249\n",
      "The correlation between Metacritic and Fandago: 0.336945314265\n",
      "The correlation between IMDB and Fandago: 0.600354177263\n"
     ]
    }
   ],
   "source": [
    "def calc_mean(series):\n",
    "    vals = series.values\n",
    "    mean = sum(vals) / len(vals)\n",
    "    return mean\n",
    "\n",
    "def calc_variance(series):\n",
    "    mean = calc_mean(series)\n",
    "    squared_deviations = (series - mean)**2\n",
    "    mean_squared_deviations = calc_mean(squared_deviations)\n",
    "    return mean_squared_deviations\n",
    "\n",
    "def calc_covariance(series_one, series_two):\n",
    "    x = series_one.values\n",
    "    y = series_two.values\n",
    "    x_mean = calc_mean(series_one)\n",
    "    y_mean = calc_mean(series_two)\n",
    "    x_diffs = [i - x_mean for i in x]\n",
    "    y_diffs = [i - y_mean for i in y]\n",
    "    codeviates = [x_diffs[i] * y_diffs[i] for i in range(len(x))]\n",
    "    return sum(codeviates) / len(codeviates)\n",
    "\n",
    "def calc_correlation(series1, series2):\n",
    "    cov = calc_covariance(series1, series2)\n",
    "    var1 = calc_variance(series1) ** (1/2)\n",
    "    var2 = calc_variance(series2) ** (1/2)\n",
    "    corr = cov / (var1*var2)\n",
    "    return corr\n",
    "\n",
    "rt_fg_corr = calc_correlation(RT, FN)\n",
    "mc_fg_corr = calc_correlation(MT, FN)\n",
    "id_fg_corr = calc_correlation(DB, FN)\n",
    "\n",
    "print(\"The correlation between Rotten Tomatoes and Fandago:\", rt_fg_corr)\n",
    "print(\"The correlation between Metacritic and Fandago:\", mc_fg_corr)\n",
    "print(\"The correlation between IMDB and Fandago:\",id_fg_corr)"
   ]
  },
  {
   "cell_type": "markdown",
   "metadata": {},
   "source": [
    "As the scatter plots suggested, Rotten Tomatoes and IMDB correlate the strongest with Fandango, with correlation values of 0.72 and 0.60 respectively. Metacritic, on the other hand, only has a correlation value of 0.34 with Fandango. While covariance and correlation values may seem complicated to compute and hard to reason with, their best use case is in comparing relationships like we did in this challenge."
   ]
  },
  {
   "cell_type": "code",
   "execution_count": null,
   "metadata": {
    "collapsed": true
   },
   "outputs": [],
   "source": []
  }
 ],
 "metadata": {
  "anaconda-cloud": {},
  "kernelspec": {
   "display_name": "Python [Root]",
   "language": "python",
   "name": "Python [Root]"
  },
  "language_info": {
   "codemirror_mode": {
    "name": "ipython",
    "version": 3
   },
   "file_extension": ".py",
   "mimetype": "text/x-python",
   "name": "python",
   "nbconvert_exporter": "python",
   "pygments_lexer": "ipython3",
   "version": "3.5.2"
  }
 },
 "nbformat": 4,
 "nbformat_minor": 0
}
